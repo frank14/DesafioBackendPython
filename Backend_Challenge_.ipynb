{
  "nbformat": 4,
  "nbformat_minor": 0,
  "metadata": {
    "colab": {
      "name": "Backend Challenge .ipynb",
      "provenance": [],
      "collapsed_sections": [],
      "authorship_tag": "ABX9TyMb2KSN+IJmmQTBGgfDfVGo",
      "include_colab_link": true
    },
    "kernelspec": {
      "name": "python3",
      "display_name": "Python 3"
    },
    "language_info": {
      "name": "python"
    }
  },
  "cells": [
    {
      "cell_type": "markdown",
      "metadata": {
        "id": "view-in-github",
        "colab_type": "text"
      },
      "source": [
        "<a href=\"https://colab.research.google.com/github/frank14/DesafioBackendPython/blob/main/Backend_Challenge_.ipynb\" target=\"_parent\"><img src=\"https://colab.research.google.com/assets/colab-badge.svg\" alt=\"Open In Colab\"/></a>"
      ]
    },
    {
      "cell_type": "markdown",
      "source": [
        "# **DESAFÍO BACKEND**\n",
        "\n",
        "En Houm estamos buscando personas que sean capaces de construir soluciones de calidad, enfocadas en atributos como escalabilidad y mantenibilidad. Houm es una startup que busca transformar la forma en que se arriendan propiedades. Nos encargamos de buscar los inquilinos indicados para cada propiedad y además, de administrarlas. Para lograr esto, nos apoyamos fuertemente en la tecnología. Para ofrecer el mejor servicio, debemos saber la información del mercado en el que nos encontramos inmersos. Esto, en la mayoría de los casos, se logra gracias a integraciones con servicios externos y que a veces significan grandes desafíos. Dicho esto, el desafío que deberás completar consta de ciertas preguntas que necesitas responder escribiendo código Python. \n",
        "\n",
        "---\n",
        "\n",
        "## **Requerimientos**\n",
        "\n",
        "* Para responder las preguntas deberás hacer uso de la PokéAPI (https://pokeapi.co/).\n",
        "* Cada pregunta debe ser respondida entregando una función Python, que luego de ser ejecutada debe entregar la respuesta exacta a la pregunta.\n",
        "\n",
        "* Asegúrate de incluir librerías que hayas utilizado en el archivo de requerimientos del proyecto y agregar los “imports” necesarios.\n",
        "\n",
        "* Es importante que todos los procesos que escribas sean lo más eficientes posible y que el código sea calidad de producción. Muestranos todos tus conocimientos de Python y de buenas prácticas de Software."
      ],
      "metadata": {
        "id": "ZndoVo6mbE4s"
      }
    },
    {
      "cell_type": "markdown",
      "source": [
        "# **Librerias utilizadas**"
      ],
      "metadata": {
        "id": "KH35jeuDSnPH"
      }
    },
    {
      "cell_type": "code",
      "source": [
        "import requests\n",
        "import re"
      ],
      "metadata": {
        "id": "cFJ-uOMfcr5U"
      },
      "execution_count": null,
      "outputs": []
    },
    {
      "cell_type": "markdown",
      "source": [
        "# **Declarando funciones y mensajes globales**"
      ],
      "metadata": {
        "id": "UFtwVP0KS1g8"
      }
    },
    {
      "cell_type": "code",
      "source": [
        "connectionMessageError = \"Ha ocurrido un error inesperado en el sistema, por favor intente más tarde\\n\"\n",
        "successfulMessage = \"¡Ejecución finalizada!, muchas gracias por su consulta\\n\"\n",
        "invalidOption = \"La opción digitada no es valida, intente nuevamente\\n\""
      ],
      "metadata": {
        "id": "hnbVqn9qYPoH"
      },
      "execution_count": null,
      "outputs": []
    },
    {
      "cell_type": "code",
      "source": [
        "def optionForUser():\n",
        " \n",
        "    estatus = False\n",
        "\n",
        "    while not estatus:\n",
        "      \n",
        "        try:\n",
        "            support = input(\"¿Desea saber la sustentación de la respuesta? [S/N]: \").lower()\n",
        "            estatus=True\n",
        "            print()\n",
        "        except:\n",
        "            print('Error, la opción ingresada no puede ser procesada, por favor intente nuevamente\\n')\n",
        "     \n",
        "    return support"
      ],
      "metadata": {
        "id": "FSD6X2rH-K20"
      },
      "execution_count": null,
      "outputs": []
    },
    {
      "cell_type": "markdown",
      "source": [
        "# **Pregunta #1**\n",
        "\n",
        "**1.** Obtén cuantos pokemones poseen en sus nombres “at” y tienen 2 “a” en su nombre, incluyendo la primera del “at”. Tu respuesta debe ser un número."
      ],
      "metadata": {
        "id": "UpcZ_6H5cPRn"
      }
    },
    {
      "cell_type": "markdown",
      "source": [
        "# **RESPUESTA #1**"
      ],
      "metadata": {
        "id": "rUqVZzXSWjjn"
      }
    },
    {
      "cell_type": "code",
      "source": [
        "pokedex = []\n",
        "\n",
        "limit = '2000'\n",
        "offset = '0'\n",
        "\n",
        "def getPokemons(url = \"https://pokeapi.co/api/v2/pokemon/?limit=\" + limit + \"&offset=\" + offset):\n",
        "  \n",
        "  response = requests.get(url)\n",
        "\n",
        "  if response.status_code == 200:\n",
        "    payload = response.json()\n",
        "    results = payload.get('results', [])\n",
        "    if results:\n",
        "      for pokemon in results:\n",
        "        name = pokemon['name'].lower()\n",
        "        if name not in pokedex:\n",
        "          pokedex.append(name)\n",
        "  else:\n",
        "    print(connectionMessageError)"
      ],
      "metadata": {
        "id": "mpnZbpTehfKG"
      },
      "execution_count": null,
      "outputs": []
    },
    {
      "cell_type": "code",
      "source": [
        "getPokemons()\n",
        "\n",
        "numbreOfPokemon = len(pokedex)\n",
        "\n",
        "r = re.compile(\"(.*at.*a+)|(.*a+.*at)\")\n",
        "filteredList = list(filter(r.match, pokedex))\n",
        "\n",
        "answerOne = len(filteredList)\n",
        "\n",
        "print('+--------------------------------------------------------------------------------------------------------------------------------------------+')\n",
        "print(f'|La respuesta a la pregunta de cuantos pokémons poseen en sus nombres “at” y tienen 2 “a” en su nombre, incluyendo la primera del “at” es: {answerOne}|')\n",
        "print('+--------------------------------------------------------------------------------------------------------------------------------------------+\\n')\n",
        "\n",
        "exit = False\n",
        "\n",
        "while not exit:\n",
        "\n",
        "    selection = optionForUser()\n",
        "\n",
        "    if selection == 's':\n",
        "      print(f'Existen un total actual de {numbreOfPokemon} pokémons incluidas sus formas regionales, variaciones, forma gigamax y mega-evoluciones\\n')\n",
        "      print(f'Estos son: {pokedex} \\n')\n",
        "      print(f'Y los {answerOne} Pokémons que cumplen con el criterio de aceptación son: {filteredList}\\n')\n",
        "      exit = True\n",
        "    elif selection == 'n':\n",
        "      exit = True\n",
        "    else:\n",
        "        print(invalidOption)\n",
        "\n",
        "print(successfulMessage)"
      ],
      "metadata": {
        "id": "jSh_g20QkBTc"
      },
      "execution_count": null,
      "outputs": []
    },
    {
      "cell_type": "markdown",
      "source": [
        "# **Pregunta #2**\n",
        "\n",
        "**2.** ¿Con cuántas especies de pokémon puede procrear raichu? (2 Pokémon pueden procrear si están dentro del mismo egg group). Tu respuesta debe ser un número. Recuerda eliminar los duplicados."
      ],
      "metadata": {
        "id": "PIkZDDWLZzhP"
      }
    },
    {
      "cell_type": "markdown",
      "source": [
        "# **RESPUESTA #2**"
      ],
      "metadata": {
        "id": "K2EJXmVdW15r"
      }
    },
    {
      "cell_type": "code",
      "source": [
        "eggRaichu = []\n",
        "\n",
        "namePokemon = 'raichu'\n",
        "\n",
        "def getEggGroup(url = \"https://pokeapi.co/api/v2/pokemon-species/\" + namePokemon):\n",
        "  \n",
        "  response = requests.get(url)\n",
        "\n",
        "  if response.status_code == 200:\n",
        "    payload = response.json()\n",
        "    results = payload.get('egg_groups', [])\n",
        "    if results:\n",
        "      for eggGroups in results:\n",
        "        name = eggGroups['name'].lower()\n",
        "        if name not in eggRaichu:\n",
        "          eggRaichu.append(name)\n",
        "  else:\n",
        "    print(connectionMessageError)\n",
        "\n",
        "speciesEggRaichu = []\n",
        "\n",
        "def getSpecies():\n",
        "\n",
        "  iteration = 0\n",
        "\n",
        "  for pokemonSpecies in eggRaichu:\n",
        "    \n",
        "      response = requests.get(\"https://pokeapi.co/api/v2/egg-group/\" + eggRaichu[iteration])\n",
        "\n",
        "      if response.status_code == 200:\n",
        "        payload = response.json()\n",
        "        results = payload.get('pokemon_species', [])\n",
        "        if results:\n",
        "            for pokemonSpecies in results:\n",
        "              name = pokemonSpecies['name'].lower()\n",
        "              if name not in speciesEggRaichu:\n",
        "                speciesEggRaichu.append(name)\n",
        "            iteration += 1\n",
        "      else:\n",
        "        print(connectionMessageError)\n",
        "\n",
        "speciesEggGround = []\n",
        "\n",
        "speciesEggFairy = []\n",
        "\n",
        "def getSpeciesGroundFairy():\n",
        "\n",
        "  for pokemonSpecies in eggRaichu:\n",
        "    \n",
        "      response = requests.get(\"https://pokeapi.co/api/v2/egg-group/\" + eggRaichu[0])\n",
        "\n",
        "      if response.status_code == 200:\n",
        "        payload = response.json()\n",
        "        results = payload.get('pokemon_species', [])\n",
        "        if results:\n",
        "            for pokemonSpecies in results:\n",
        "              name = pokemonSpecies['name'].lower()\n",
        "              if name not in speciesEggGround:\n",
        "                speciesEggGround.append(name)\n",
        "      else:\n",
        "        print(connectionMessageError)\n",
        "\n",
        "      response = requests.get(\"https://pokeapi.co/api/v2/egg-group/\" + eggRaichu[1])\n",
        "\n",
        "      if response.status_code == 200:\n",
        "        payload = response.json()\n",
        "        results = payload.get('pokemon_species', [])\n",
        "        if results:\n",
        "            for pokemonSpecies in results:\n",
        "              name = pokemonSpecies['name'].lower()\n",
        "              if name not in speciesEggFairy:\n",
        "                speciesEggFairy.append(name)\n",
        "      else:\n",
        "        print(connectionMessageError)"
      ],
      "metadata": {
        "id": "e3vXokvxM49n"
      },
      "execution_count": null,
      "outputs": []
    },
    {
      "cell_type": "code",
      "source": [
        "getEggGroup()\n",
        "\n",
        "getSpecies()\n",
        "\n",
        "getSpeciesGroundFairy()\n",
        "\n",
        "answerTwo = len(speciesEggRaichu)\n",
        "\n",
        "summatory = len(speciesEggGround) + len(speciesEggFairy)\n",
        "\n",
        "duplicatePokemon = set(speciesEggGround) & set(speciesEggFairy)\n",
        "\n",
        "print('+---------------------------------------------------------------------------------------+')\n",
        "print(f'|La respuesta a la pregunta de cuántas especies de pokémon puede procrear raichu es: {answerTwo}|')\n",
        "print('+---------------------------------------------------------------------------------------+\\n')\n",
        "\n",
        "exit = False\n",
        "\n",
        "while not exit:\n",
        "\n",
        "    selection = optionForUser()\n",
        "\n",
        "    if selection == 's':\n",
        "      print(f'Raichu puede procrear con los egg group {eggRaichu}\\n')\n",
        "      print(f'De las cuales la {eggRaichu[0]} tiene en total {len(speciesEggGround)} especies de pokémons, los cuales son los siguientes: {speciesEggGround}\\n')\n",
        "      print(f'De las cuales la {eggRaichu[1]} tiene en total {len(speciesEggFairy)} especies de pokémons, los cuales son los siguientes: {speciesEggFairy}\\n')\n",
        "      print(f'Al sumar los {len(speciesEggGround)} del grupo {eggRaichu[0]} con los {len(speciesEggFairy)} del grupo {eggRaichu[1]} se obtiene como resultado un total de {summatory}, y si le restamos las {len(duplicatePokemon)} especies de pokémon duplicadas que son: {duplicatePokemon}, terminamos por obtener como resultado {answerTwo}\\n')\n",
        "      exit = True\n",
        "    elif selection == 'n':\n",
        "      exit = True\n",
        "    else:\n",
        "        print(invalidOption)\n",
        "\n",
        "print(successfulMessage)"
      ],
      "metadata": {
        "id": "k9Qjg6JMO3es"
      },
      "execution_count": null,
      "outputs": []
    },
    {
      "cell_type": "markdown",
      "source": [
        "# **Pregunta #3**\n",
        "\n",
        "**3.** Entrega el máximo y mínimo peso de los pokémon de tipo fighting de primera generación (cuyo id sea menor o igual a 151). Tu respuesta debe ser una lista con el siguiente formato: [1234, 12], en donde 1234 corresponde al máximo peso y 12 al mínimo."
      ],
      "metadata": {
        "id": "Oe6OMTxuZ8dq"
      }
    },
    {
      "cell_type": "markdown",
      "source": [
        "# **RESPUESTA #3**"
      ],
      "metadata": {
        "id": "zv0TfC3N1hH6"
      }
    },
    {
      "cell_type": "code",
      "source": [
        "pokedexFighting = []\n",
        "\n",
        "pokedexFirstGeneration = []\n",
        "\n",
        "pokedexFirstGenerationFighting = []\n",
        "\n",
        "weightFirstGenerationFightingPokemon = []\n",
        "\n",
        "weightRangeFightingPokemon = []\n",
        "\n",
        "limit = '151'\n",
        "offset = '0'\n",
        "\n",
        "def getPokemonsFighting():\n",
        "  \n",
        "  response = requests.get(\"https://pokeapi.co/api/v2/type/fighting/\")\n",
        "\n",
        "  if response.status_code == 200:\n",
        "    payload = response.json()\n",
        "    results = payload.get('pokemon', [])\n",
        "    if results:\n",
        "      for pokemon in results:\n",
        "        name = pokemon['pokemon']['name']\n",
        "        if name not in pokedexFighting:\n",
        "          pokedexFighting.append(name)\n",
        "  else:\n",
        "    print(connectionMessageError)\n",
        "  \n",
        "  response = requests.get(\"https://pokeapi.co/api/v2/pokemon/?limit=\" + limit + \"&offset=\" + offset)\n",
        "\n",
        "  if response.status_code == 200:\n",
        "    payload = response.json()\n",
        "    results = payload.get('results', [])\n",
        "    if results:\n",
        "      for pokemon in results:\n",
        "        name = pokemon['name'].lower()\n",
        "        if name not in pokedexFirstGeneration:\n",
        "          pokedexFirstGeneration.append(name)\n",
        "  else:\n",
        "    print(connectionMessageError)\n",
        "\n",
        "  for pokemon in pokedexFighting:\n",
        "    if (pokemon not in pokedexFirstGenerationFighting) and (pokemon in pokedexFirstGeneration):\n",
        "        pokedexFirstGenerationFighting.append(pokemon)\n",
        "\n",
        "  index = 0\n",
        "\n",
        "  for pokemon in pokedexFirstGenerationFighting:\n",
        "\n",
        "    response = requests.get(\"https://pokeapi.co/api/v2/pokemon/\" + pokedexFirstGenerationFighting[index])\n",
        "\n",
        "    if response.status_code == 200:\n",
        "      payload = response.json()\n",
        "      weight = payload.get('weight', [])\n",
        "      if weight not in weightFirstGenerationFightingPokemon:\n",
        "        weightFirstGenerationFightingPokemon.append(weight)\n",
        "      index += 1\n",
        "    else:\n",
        "      print(connectionMessageError)\n",
        "\n",
        "  weightMax = max(weightFirstGenerationFightingPokemon)\n",
        "\n",
        "  weightMin = min(weightFirstGenerationFightingPokemon)\n",
        "\n",
        "  if weightMax not in weightRangeFightingPokemon:\n",
        "    weightRangeFightingPokemon.append(weightMax)\n",
        "  if weightMin not in weightRangeFightingPokemon: \n",
        "    weightRangeFightingPokemon.append(weightMin)\n",
        "\n",
        "def showNameAndWeight():\n",
        "\n",
        "  index = 0\n",
        "\n",
        "  for pokemon in pokedexFirstGenerationFighting:\n",
        "    print(f\"{pokedexFirstGenerationFighting[index].capitalize()}: {weightFirstGenerationFightingPokemon[index]}\")\n",
        "    index += 1"
      ],
      "metadata": {
        "id": "_jWkYmiWL2oT"
      },
      "execution_count": null,
      "outputs": []
    },
    {
      "cell_type": "code",
      "source": [
        "getPokemonsFighting()\n",
        "\n",
        "answerthree = weightRangeFightingPokemon\n",
        "\n",
        "index = 0\n",
        "\n",
        "print('+------------------------------------------------------------------------------------------------------------------------------------------+')\n",
        "print(f'|La respuesta a la pregunta de cuanto es el peso máximo y mínimo peso de los pokémon de tipo fighting de primera generación es: {answerthree}|')\n",
        "print('+------------------------------------------------------------------------------------------------------------------------------------------+\\n')\n",
        "\n",
        "exit = False\n",
        "\n",
        "while not exit:\n",
        "\n",
        "    selection = optionForUser()\n",
        "\n",
        "    if selection == 's':\n",
        "      print(f'Exiten actualmente {len(pokedexFighting)} pokémons de tipo lucha, de los cuales solo {len(pokedexFirstGenerationFighting)} pertenecen a la primera generación y estos son los siguientes: {pokedexFirstGenerationFighting}\\n')\n",
        "      print(\"Y los pesos de cada pokémon de tipo lucha se muestra a continuación:\\n\")\n",
        "      showNameAndWeight()\n",
        "      print()\n",
        "      exit = True\n",
        "    elif selection == 'n':\n",
        "      exit = True\n",
        "    else:\n",
        "        print(invalidOption)\n",
        "\n",
        "print(successfulMessage)"
      ],
      "metadata": {
        "id": "hMOigwLuL4RI"
      },
      "execution_count": null,
      "outputs": []
    }
  ]
}