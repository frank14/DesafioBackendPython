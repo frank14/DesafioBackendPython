{
  "nbformat": 4,
  "nbformat_minor": 0,
  "metadata": {
    "colab": {
      "name": "Backend Challenge .ipynb",
      "provenance": [],
      "collapsed_sections": [],
      "authorship_tag": "ABX9TyP0oS/fbsCdjhiRwkYimPXm",
      "include_colab_link": true
    },
    "kernelspec": {
      "name": "python3",
      "display_name": "Python 3"
    },
    "language_info": {
      "name": "python"
    }
  },
  "cells": [
    {
      "cell_type": "markdown",
      "metadata": {
        "id": "view-in-github",
        "colab_type": "text"
      },
      "source": [
        "<a href=\"https://colab.research.google.com/github/frank14/DesafioBackendPython/blob/main/Backend_Challenge_.ipynb\" target=\"_parent\"><img src=\"https://colab.research.google.com/assets/colab-badge.svg\" alt=\"Open In Colab\"/></a>"
      ]
    },
    {
      "cell_type": "markdown",
      "source": [
        "# **DESAFÍO BACKEND**\n",
        "\n",
        "En Houm estamos buscando personas que sean capaces de construir soluciones de calidad, enfocadas en atributos como escalabilidad y mantenibilidad. Houm es una startup que busca transformar la forma en que se arriendan propiedades. Nos encargamos de buscar los inquilinos indicados para cada propiedad y además, de administrarlas. Para lograr esto, nos apoyamos fuertemente en la tecnología. Para ofrecer el mejor servicio, debemos saber la información del mercado en el que nos encontramos inmersos. Esto, en la mayoría de los casos, se logra gracias a integraciones con servicios externos y que a veces significan grandes desafíos. Dicho esto, el desafío que deberás completar consta de ciertas preguntas que necesitas responder escribiendo código Python. \n",
        "\n",
        "---\n",
        "\n",
        "## **Requerimientos**\n",
        "\n",
        "* Para responder las preguntas deberás hacer uso de la PokéAPI (https://pokeapi.co/).\n",
        "* Cada pregunta debe ser respondida entregando una función Python, que luego de ser ejecutada debe entregar la respuesta exacta a la pregunta.\n",
        "\n",
        "* Asegúrate de incluir librerías que hayas utilizado en el archivo de requerimientos del proyecto y agregar los “imports” necesarios.\n",
        "\n",
        "* Es importante que todos los procesos que escribas sean lo más eficientes posible y que el código sea calidad de producción. Muestranos todos tus conocimientos de Python y de buenas prácticas de Software."
      ],
      "metadata": {
        "id": "ZndoVo6mbE4s"
      }
    },
    {
      "cell_type": "markdown",
      "source": [
        "# **Librerias utilizadas**"
      ],
      "metadata": {
        "id": "KH35jeuDSnPH"
      }
    },
    {
      "cell_type": "code",
      "source": [
        "import requests\n",
        "import re"
      ],
      "metadata": {
        "id": "cFJ-uOMfcr5U"
      },
      "execution_count": 1,
      "outputs": []
    },
    {
      "cell_type": "markdown",
      "source": [
        "# **Declarando funciones y mensajes globales**"
      ],
      "metadata": {
        "id": "UFtwVP0KS1g8"
      }
    },
    {
      "cell_type": "code",
      "source": [
        "connectionMessageError = \"Ha ocurrido un error inesperado en el sistema, por favor intente más tarde \\n\"\n",
        "successfulMessage = \"¡Ejecución finalizada!, muchas gracias por su consulta\"\n",
        "invalidOption = \"La opción digitada no es valida, intente nuevamente \\n\""
      ],
      "metadata": {
        "id": "hnbVqn9qYPoH"
      },
      "execution_count": 2,
      "outputs": []
    },
    {
      "cell_type": "code",
      "source": [
        "def optionForUser():\n",
        " \n",
        "    estatus = False\n",
        "\n",
        "    while not estatus:\n",
        "      \n",
        "        try:\n",
        "            support = input(\"¿Desea saber la sustentación de la respuesta? [S/N]: \").lower()\n",
        "            estatus=True\n",
        "            print()\n",
        "        except:\n",
        "            print('Error, la opción ingresada no puede ser procesada, por favor intente nuevamente\\n')\n",
        "     \n",
        "    return support"
      ],
      "metadata": {
        "id": "FSD6X2rH-K20"
      },
      "execution_count": 3,
      "outputs": []
    },
    {
      "cell_type": "markdown",
      "source": [
        "# **Pregunta #1**\n",
        "\n",
        "**1.** Obtén cuantos pokemones poseen en sus nombres “at” y tienen 2 “a” en su nombre, incluyendo la primera del “at”. Tu respuesta debe ser un número."
      ],
      "metadata": {
        "id": "UpcZ_6H5cPRn"
      }
    },
    {
      "cell_type": "markdown",
      "source": [
        "# **RESPUESTA #1**"
      ],
      "metadata": {
        "id": "rUqVZzXSWjjn"
      }
    },
    {
      "cell_type": "code",
      "source": [
        "pokedex = []\n",
        "\n",
        "limit = '2000'\n",
        "offset = '0'\n",
        "\n",
        "def getPokemons(url = \"https://pokeapi.co/api/v2/pokemon/?limit=\" + limit + \"&offset=\" + offset):\n",
        "  \n",
        "  response = requests.get(url)\n",
        "\n",
        "  if response.status_code == 200:\n",
        "    payload = response.json()\n",
        "    results = payload.get('results', [])\n",
        "    if results:\n",
        "      for pokemon in results:\n",
        "        name = pokemon['name'].lower()\n",
        "        if name not in pokedex:\n",
        "          pokedex.append(name)\n",
        "  else:\n",
        "    print(connectionMessageError)"
      ],
      "metadata": {
        "id": "mpnZbpTehfKG"
      },
      "execution_count": 4,
      "outputs": []
    },
    {
      "cell_type": "code",
      "source": [
        "getPokemons()\n",
        "\n",
        "numbreOfPokemon = len(pokedex)\n",
        "\n",
        "r = re.compile(\"(.*at.*a+)|(.*a+.*at)\")\n",
        "filteredList = list(filter(r.match, pokedex))\n",
        "\n",
        "answerOne = len(filteredList)\n",
        "\n",
        "print('+--------------------------------------------------------------------------------------------------------------------------------------------+')\n",
        "print(f'|La respuesta a la pregunta de cuantos pokémons poseen en sus nombres “at” y tienen 2 “a” en su nombre, incluyendo la primera del “at” es: {answerOne}|')\n",
        "print('+--------------------------------------------------------------------------------------------------------------------------------------------+\\n')\n",
        "\n",
        "exit = False\n",
        "\n",
        "while not exit:\n",
        "\n",
        "    selection = optionForUser()\n",
        "\n",
        "    if selection == 's':\n",
        "      print(f'Existen un total actual de {numbreOfPokemon} pokémons incluidas sus formas regionales, variaciones, forma gigamax y mega-evoluciones\\n')\n",
        "      print(f'Estos son: {pokedex} \\n')\n",
        "      print(f'Y los {answerOne} Pokémons que cumplen con el criterio de aceptación son: {filteredList}\\n')\n",
        "      exit = True\n",
        "    elif selection == 'n':\n",
        "      exit = True\n",
        "    else:\n",
        "        print(invalidOption)\n",
        "\n",
        "print(successfulMessage)"
      ],
      "metadata": {
        "id": "jSh_g20QkBTc",
        "colab": {
          "base_uri": "https://localhost:8080/"
        },
        "outputId": "bd79ea3d-efc9-439c-c1eb-af31e16d59f9"
      },
      "execution_count": 5,
      "outputs": [
        {
          "output_type": "stream",
          "name": "stdout",
          "text": [
            "+--------------------------------------------------------------------------------------------------------------------------------------------+\n",
            "|La respuesta a la pregunta de cuantos pokémons poseen en sus nombres “at” y tienen 2 “a” en su nombre, incluyendo la primera del “at” es: 24|\n",
            "+--------------------------------------------------------------------------------------------------------------------------------------------+\n",
            "\n",
            "¿Desea saber la sustentación de la respuesta? [S/N]: s\n",
            "\n",
            "Existen un total actual de 1126 pokémons incluidas sus formas regionales, variaciones, forma gigamax y mega-evoluciones\n",
            "\n",
            "Estos son: ['bulbasaur', 'ivysaur', 'venusaur', 'charmander', 'charmeleon', 'charizard', 'squirtle', 'wartortle', 'blastoise', 'caterpie', 'metapod', 'butterfree', 'weedle', 'kakuna', 'beedrill', 'pidgey', 'pidgeotto', 'pidgeot', 'rattata', 'raticate', 'spearow', 'fearow', 'ekans', 'arbok', 'pikachu', 'raichu', 'sandshrew', 'sandslash', 'nidoran-f', 'nidorina', 'nidoqueen', 'nidoran-m', 'nidorino', 'nidoking', 'clefairy', 'clefable', 'vulpix', 'ninetales', 'jigglypuff', 'wigglytuff', 'zubat', 'golbat', 'oddish', 'gloom', 'vileplume', 'paras', 'parasect', 'venonat', 'venomoth', 'diglett', 'dugtrio', 'meowth', 'persian', 'psyduck', 'golduck', 'mankey', 'primeape', 'growlithe', 'arcanine', 'poliwag', 'poliwhirl', 'poliwrath', 'abra', 'kadabra', 'alakazam', 'machop', 'machoke', 'machamp', 'bellsprout', 'weepinbell', 'victreebel', 'tentacool', 'tentacruel', 'geodude', 'graveler', 'golem', 'ponyta', 'rapidash', 'slowpoke', 'slowbro', 'magnemite', 'magneton', 'farfetchd', 'doduo', 'dodrio', 'seel', 'dewgong', 'grimer', 'muk', 'shellder', 'cloyster', 'gastly', 'haunter', 'gengar', 'onix', 'drowzee', 'hypno', 'krabby', 'kingler', 'voltorb', 'electrode', 'exeggcute', 'exeggutor', 'cubone', 'marowak', 'hitmonlee', 'hitmonchan', 'lickitung', 'koffing', 'weezing', 'rhyhorn', 'rhydon', 'chansey', 'tangela', 'kangaskhan', 'horsea', 'seadra', 'goldeen', 'seaking', 'staryu', 'starmie', 'mr-mime', 'scyther', 'jynx', 'electabuzz', 'magmar', 'pinsir', 'tauros', 'magikarp', 'gyarados', 'lapras', 'ditto', 'eevee', 'vaporeon', 'jolteon', 'flareon', 'porygon', 'omanyte', 'omastar', 'kabuto', 'kabutops', 'aerodactyl', 'snorlax', 'articuno', 'zapdos', 'moltres', 'dratini', 'dragonair', 'dragonite', 'mewtwo', 'mew', 'chikorita', 'bayleef', 'meganium', 'cyndaquil', 'quilava', 'typhlosion', 'totodile', 'croconaw', 'feraligatr', 'sentret', 'furret', 'hoothoot', 'noctowl', 'ledyba', 'ledian', 'spinarak', 'ariados', 'crobat', 'chinchou', 'lanturn', 'pichu', 'cleffa', 'igglybuff', 'togepi', 'togetic', 'natu', 'xatu', 'mareep', 'flaaffy', 'ampharos', 'bellossom', 'marill', 'azumarill', 'sudowoodo', 'politoed', 'hoppip', 'skiploom', 'jumpluff', 'aipom', 'sunkern', 'sunflora', 'yanma', 'wooper', 'quagsire', 'espeon', 'umbreon', 'murkrow', 'slowking', 'misdreavus', 'unown', 'wobbuffet', 'girafarig', 'pineco', 'forretress', 'dunsparce', 'gligar', 'steelix', 'snubbull', 'granbull', 'qwilfish', 'scizor', 'shuckle', 'heracross', 'sneasel', 'teddiursa', 'ursaring', 'slugma', 'magcargo', 'swinub', 'piloswine', 'corsola', 'remoraid', 'octillery', 'delibird', 'mantine', 'skarmory', 'houndour', 'houndoom', 'kingdra', 'phanpy', 'donphan', 'porygon2', 'stantler', 'smeargle', 'tyrogue', 'hitmontop', 'smoochum', 'elekid', 'magby', 'miltank', 'blissey', 'raikou', 'entei', 'suicune', 'larvitar', 'pupitar', 'tyranitar', 'lugia', 'ho-oh', 'celebi', 'treecko', 'grovyle', 'sceptile', 'torchic', 'combusken', 'blaziken', 'mudkip', 'marshtomp', 'swampert', 'poochyena', 'mightyena', 'zigzagoon', 'linoone', 'wurmple', 'silcoon', 'beautifly', 'cascoon', 'dustox', 'lotad', 'lombre', 'ludicolo', 'seedot', 'nuzleaf', 'shiftry', 'taillow', 'swellow', 'wingull', 'pelipper', 'ralts', 'kirlia', 'gardevoir', 'surskit', 'masquerain', 'shroomish', 'breloom', 'slakoth', 'vigoroth', 'slaking', 'nincada', 'ninjask', 'shedinja', 'whismur', 'loudred', 'exploud', 'makuhita', 'hariyama', 'azurill', 'nosepass', 'skitty', 'delcatty', 'sableye', 'mawile', 'aron', 'lairon', 'aggron', 'meditite', 'medicham', 'electrike', 'manectric', 'plusle', 'minun', 'volbeat', 'illumise', 'roselia', 'gulpin', 'swalot', 'carvanha', 'sharpedo', 'wailmer', 'wailord', 'numel', 'camerupt', 'torkoal', 'spoink', 'grumpig', 'spinda', 'trapinch', 'vibrava', 'flygon', 'cacnea', 'cacturne', 'swablu', 'altaria', 'zangoose', 'seviper', 'lunatone', 'solrock', 'barboach', 'whiscash', 'corphish', 'crawdaunt', 'baltoy', 'claydol', 'lileep', 'cradily', 'anorith', 'armaldo', 'feebas', 'milotic', 'castform', 'kecleon', 'shuppet', 'banette', 'duskull', 'dusclops', 'tropius', 'chimecho', 'absol', 'wynaut', 'snorunt', 'glalie', 'spheal', 'sealeo', 'walrein', 'clamperl', 'huntail', 'gorebyss', 'relicanth', 'luvdisc', 'bagon', 'shelgon', 'salamence', 'beldum', 'metang', 'metagross', 'regirock', 'regice', 'registeel', 'latias', 'latios', 'kyogre', 'groudon', 'rayquaza', 'jirachi', 'deoxys-normal', 'turtwig', 'grotle', 'torterra', 'chimchar', 'monferno', 'infernape', 'piplup', 'prinplup', 'empoleon', 'starly', 'staravia', 'staraptor', 'bidoof', 'bibarel', 'kricketot', 'kricketune', 'shinx', 'luxio', 'luxray', 'budew', 'roserade', 'cranidos', 'rampardos', 'shieldon', 'bastiodon', 'burmy', 'wormadam-plant', 'mothim', 'combee', 'vespiquen', 'pachirisu', 'buizel', 'floatzel', 'cherubi', 'cherrim', 'shellos', 'gastrodon', 'ambipom', 'drifloon', 'drifblim', 'buneary', 'lopunny', 'mismagius', 'honchkrow', 'glameow', 'purugly', 'chingling', 'stunky', 'skuntank', 'bronzor', 'bronzong', 'bonsly', 'mime-jr', 'happiny', 'chatot', 'spiritomb', 'gible', 'gabite', 'garchomp', 'munchlax', 'riolu', 'lucario', 'hippopotas', 'hippowdon', 'skorupi', 'drapion', 'croagunk', 'toxicroak', 'carnivine', 'finneon', 'lumineon', 'mantyke', 'snover', 'abomasnow', 'weavile', 'magnezone', 'lickilicky', 'rhyperior', 'tangrowth', 'electivire', 'magmortar', 'togekiss', 'yanmega', 'leafeon', 'glaceon', 'gliscor', 'mamoswine', 'porygon-z', 'gallade', 'probopass', 'dusknoir', 'froslass', 'rotom', 'uxie', 'mesprit', 'azelf', 'dialga', 'palkia', 'heatran', 'regigigas', 'giratina-altered', 'cresselia', 'phione', 'manaphy', 'darkrai', 'shaymin-land', 'arceus', 'victini', 'snivy', 'servine', 'serperior', 'tepig', 'pignite', 'emboar', 'oshawott', 'dewott', 'samurott', 'patrat', 'watchog', 'lillipup', 'herdier', 'stoutland', 'purrloin', 'liepard', 'pansage', 'simisage', 'pansear', 'simisear', 'panpour', 'simipour', 'munna', 'musharna', 'pidove', 'tranquill', 'unfezant', 'blitzle', 'zebstrika', 'roggenrola', 'boldore', 'gigalith', 'woobat', 'swoobat', 'drilbur', 'excadrill', 'audino', 'timburr', 'gurdurr', 'conkeldurr', 'tympole', 'palpitoad', 'seismitoad', 'throh', 'sawk', 'sewaddle', 'swadloon', 'leavanny', 'venipede', 'whirlipede', 'scolipede', 'cottonee', 'whimsicott', 'petilil', 'lilligant', 'basculin-red-striped', 'sandile', 'krokorok', 'krookodile', 'darumaka', 'darmanitan-standard', 'maractus', 'dwebble', 'crustle', 'scraggy', 'scrafty', 'sigilyph', 'yamask', 'cofagrigus', 'tirtouga', 'carracosta', 'archen', 'archeops', 'trubbish', 'garbodor', 'zorua', 'zoroark', 'minccino', 'cinccino', 'gothita', 'gothorita', 'gothitelle', 'solosis', 'duosion', 'reuniclus', 'ducklett', 'swanna', 'vanillite', 'vanillish', 'vanilluxe', 'deerling', 'sawsbuck', 'emolga', 'karrablast', 'escavalier', 'foongus', 'amoonguss', 'frillish', 'jellicent', 'alomomola', 'joltik', 'galvantula', 'ferroseed', 'ferrothorn', 'klink', 'klang', 'klinklang', 'tynamo', 'eelektrik', 'eelektross', 'elgyem', 'beheeyem', 'litwick', 'lampent', 'chandelure', 'axew', 'fraxure', 'haxorus', 'cubchoo', 'beartic', 'cryogonal', 'shelmet', 'accelgor', 'stunfisk', 'mienfoo', 'mienshao', 'druddigon', 'golett', 'golurk', 'pawniard', 'bisharp', 'bouffalant', 'rufflet', 'braviary', 'vullaby', 'mandibuzz', 'heatmor', 'durant', 'deino', 'zweilous', 'hydreigon', 'larvesta', 'volcarona', 'cobalion', 'terrakion', 'virizion', 'tornadus-incarnate', 'thundurus-incarnate', 'reshiram', 'zekrom', 'landorus-incarnate', 'kyurem', 'keldeo-ordinary', 'meloetta-aria', 'genesect', 'chespin', 'quilladin', 'chesnaught', 'fennekin', 'braixen', 'delphox', 'froakie', 'frogadier', 'greninja', 'bunnelby', 'diggersby', 'fletchling', 'fletchinder', 'talonflame', 'scatterbug', 'spewpa', 'vivillon', 'litleo', 'pyroar', 'flabebe', 'floette', 'florges', 'skiddo', 'gogoat', 'pancham', 'pangoro', 'furfrou', 'espurr', 'meowstic-male', 'honedge', 'doublade', 'aegislash-shield', 'spritzee', 'aromatisse', 'swirlix', 'slurpuff', 'inkay', 'malamar', 'binacle', 'barbaracle', 'skrelp', 'dragalge', 'clauncher', 'clawitzer', 'helioptile', 'heliolisk', 'tyrunt', 'tyrantrum', 'amaura', 'aurorus', 'sylveon', 'hawlucha', 'dedenne', 'carbink', 'goomy', 'sliggoo', 'goodra', 'klefki', 'phantump', 'trevenant', 'pumpkaboo-average', 'gourgeist-average', 'bergmite', 'avalugg', 'noibat', 'noivern', 'xerneas', 'yveltal', 'zygarde-50', 'diancie', 'hoopa', 'volcanion', 'rowlet', 'dartrix', 'decidueye', 'litten', 'torracat', 'incineroar', 'popplio', 'brionne', 'primarina', 'pikipek', 'trumbeak', 'toucannon', 'yungoos', 'gumshoos', 'grubbin', 'charjabug', 'vikavolt', 'crabrawler', 'crabominable', 'oricorio-baile', 'cutiefly', 'ribombee', 'rockruff', 'lycanroc-midday', 'wishiwashi-solo', 'mareanie', 'toxapex', 'mudbray', 'mudsdale', 'dewpider', 'araquanid', 'fomantis', 'lurantis', 'morelull', 'shiinotic', 'salandit', 'salazzle', 'stufful', 'bewear', 'bounsweet', 'steenee', 'tsareena', 'comfey', 'oranguru', 'passimian', 'wimpod', 'golisopod', 'sandygast', 'palossand', 'pyukumuku', 'type-null', 'silvally', 'minior-red-meteor', 'komala', 'turtonator', 'togedemaru', 'mimikyu-disguised', 'bruxish', 'drampa', 'dhelmise', 'jangmo-o', 'hakamo-o', 'kommo-o', 'tapu-koko', 'tapu-lele', 'tapu-bulu', 'tapu-fini', 'cosmog', 'cosmoem', 'solgaleo', 'lunala', 'nihilego', 'buzzwole', 'pheromosa', 'xurkitree', 'celesteela', 'kartana', 'guzzlord', 'necrozma', 'magearna', 'marshadow', 'poipole', 'naganadel', 'stakataka', 'blacephalon', 'zeraora', 'meltan', 'melmetal', 'grookey', 'thwackey', 'rillaboom', 'scorbunny', 'raboot', 'cinderace', 'sobble', 'drizzile', 'inteleon', 'skwovet', 'greedent', 'rookidee', 'corvisquire', 'corviknight', 'blipbug', 'dottler', 'orbeetle', 'nickit', 'thievul', 'gossifleur', 'eldegoss', 'wooloo', 'dubwool', 'chewtle', 'drednaw', 'yamper', 'boltund', 'rolycoly', 'carkol', 'coalossal', 'applin', 'flapple', 'appletun', 'silicobra', 'sandaconda', 'cramorant', 'arrokuda', 'barraskewda', 'toxel', 'toxtricity-amped', 'sizzlipede', 'centiskorch', 'clobbopus', 'grapploct', 'sinistea', 'polteageist', 'hatenna', 'hattrem', 'hatterene', 'impidimp', 'morgrem', 'grimmsnarl', 'obstagoon', 'perrserker', 'cursola', 'sirfetchd', 'mr-rime', 'runerigus', 'milcery', 'alcremie', 'falinks', 'pincurchin', 'snom', 'frosmoth', 'stonjourner', 'eiscue-ice', 'indeedee-male', 'morpeko-full-belly', 'cufant', 'copperajah', 'dracozolt', 'arctozolt', 'dracovish', 'arctovish', 'duraludon', 'dreepy', 'drakloak', 'dragapult', 'zacian', 'zamazenta', 'eternatus', 'kubfu', 'urshifu-single-strike', 'zarude', 'regieleki', 'regidrago', 'glastrier', 'spectrier', 'calyrex', 'deoxys-attack', 'deoxys-defense', 'deoxys-speed', 'wormadam-sandy', 'wormadam-trash', 'shaymin-sky', 'giratina-origin', 'rotom-heat', 'rotom-wash', 'rotom-frost', 'rotom-fan', 'rotom-mow', 'castform-sunny', 'castform-rainy', 'castform-snowy', 'basculin-blue-striped', 'darmanitan-zen', 'meloetta-pirouette', 'tornadus-therian', 'thundurus-therian', 'landorus-therian', 'kyurem-black', 'kyurem-white', 'keldeo-resolute', 'meowstic-female', 'aegislash-blade', 'pumpkaboo-small', 'pumpkaboo-large', 'pumpkaboo-super', 'gourgeist-small', 'gourgeist-large', 'gourgeist-super', 'venusaur-mega', 'charizard-mega-x', 'charizard-mega-y', 'blastoise-mega', 'alakazam-mega', 'gengar-mega', 'kangaskhan-mega', 'pinsir-mega', 'gyarados-mega', 'aerodactyl-mega', 'mewtwo-mega-x', 'mewtwo-mega-y', 'ampharos-mega', 'scizor-mega', 'heracross-mega', 'houndoom-mega', 'tyranitar-mega', 'blaziken-mega', 'gardevoir-mega', 'mawile-mega', 'aggron-mega', 'medicham-mega', 'manectric-mega', 'banette-mega', 'absol-mega', 'garchomp-mega', 'lucario-mega', 'abomasnow-mega', 'floette-eternal', 'latias-mega', 'latios-mega', 'swampert-mega', 'sceptile-mega', 'sableye-mega', 'altaria-mega', 'gallade-mega', 'audino-mega', 'sharpedo-mega', 'slowbro-mega', 'steelix-mega', 'pidgeot-mega', 'glalie-mega', 'diancie-mega', 'metagross-mega', 'kyogre-primal', 'groudon-primal', 'rayquaza-mega', 'pikachu-rock-star', 'pikachu-belle', 'pikachu-pop-star', 'pikachu-phd', 'pikachu-libre', 'pikachu-cosplay', 'hoopa-unbound', 'camerupt-mega', 'lopunny-mega', 'salamence-mega', 'beedrill-mega', 'rattata-alola', 'raticate-alola', 'raticate-totem-alola', 'pikachu-original-cap', 'pikachu-hoenn-cap', 'pikachu-sinnoh-cap', 'pikachu-unova-cap', 'pikachu-kalos-cap', 'pikachu-alola-cap', 'raichu-alola', 'sandshrew-alola', 'sandslash-alola', 'vulpix-alola', 'ninetales-alola', 'diglett-alola', 'dugtrio-alola', 'meowth-alola', 'persian-alola', 'geodude-alola', 'graveler-alola', 'golem-alola', 'grimer-alola', 'muk-alola', 'exeggutor-alola', 'marowak-alola', 'greninja-battle-bond', 'greninja-ash', 'zygarde-10-power-construct', 'zygarde-50-power-construct', 'zygarde-complete', 'gumshoos-totem', 'vikavolt-totem', 'oricorio-pom-pom', 'oricorio-pau', 'oricorio-sensu', 'lycanroc-midnight', 'wishiwashi-school', 'lurantis-totem', 'salazzle-totem', 'minior-orange-meteor', 'minior-yellow-meteor', 'minior-green-meteor', 'minior-blue-meteor', 'minior-indigo-meteor', 'minior-violet-meteor', 'minior-red', 'minior-orange', 'minior-yellow', 'minior-green', 'minior-blue', 'minior-indigo', 'minior-violet', 'mimikyu-busted', 'mimikyu-totem-disguised', 'mimikyu-totem-busted', 'kommo-o-totem', 'magearna-original', 'pikachu-partner-cap', 'marowak-totem', 'ribombee-totem', 'rockruff-own-tempo', 'lycanroc-dusk', 'araquanid-totem', 'togedemaru-totem', 'necrozma-dusk', 'necrozma-dawn', 'necrozma-ultra', 'pikachu-starter', 'eevee-starter', 'pikachu-world-cap', 'meowth-galar', 'ponyta-galar', 'rapidash-galar', 'slowpoke-galar', 'slowbro-galar', 'farfetchd-galar', 'weezing-galar', 'mr-mime-galar', 'articuno-galar', 'zapdos-galar', 'moltres-galar', 'slowking-galar', 'corsola-galar', 'zigzagoon-galar', 'linoone-galar', 'darumaka-galar', 'darmanitan-galar-standard', 'darmanitan-galar-zen', 'yamask-galar', 'stunfisk-galar', 'zygarde-10', 'cramorant-gulping', 'cramorant-gorging', 'toxtricity-low-key', 'eiscue-noice', 'indeedee-female', 'morpeko-hangry', 'zacian-crowned', 'zamazenta-crowned', 'eternatus-eternamax', 'urshifu-rapid-strike', 'zarude-dada', 'calyrex-ice', 'calyrex-shadow', 'venusaur-gmax', 'charizard-gmax', 'blastoise-gmax', 'butterfree-gmax', 'pikachu-gmax', 'meowth-gmax', 'machamp-gmax', 'gengar-gmax', 'kingler-gmax', 'lapras-gmax', 'eevee-gmax', 'snorlax-gmax', 'garbodor-gmax', 'melmetal-gmax', 'rillaboom-gmax', 'cinderace-gmax', 'inteleon-gmax', 'corviknight-gmax', 'orbeetle-gmax', 'drednaw-gmax', 'coalossal-gmax', 'flapple-gmax', 'appletun-gmax', 'sandaconda-gmax', 'toxtricity-amped-gmax', 'centiskorch-gmax', 'hatterene-gmax', 'grimmsnarl-gmax', 'alcremie-gmax', 'copperajah-gmax', 'duraludon-gmax', 'urshifu-single-strike-gmax', 'urshifu-rapid-strike-gmax', 'toxtricity-low-key-gmax'] \n",
            "\n",
            "Y los 24 Pokémons que cumplen con el criterio de aceptación son: ['rattata', 'raticate', 'feraligatr', 'latias', 'heatran', 'giratina-altered', 'patrat', 'tornadus-incarnate', 'thundurus-incarnate', 'landorus-incarnate', 'aromatisse', 'torracat', 'stakataka', 'hatenna', 'deoxys-attack', 'giratina-origin', 'latias-mega', 'latios-mega', 'rattata-alola', 'raticate-alola', 'raticate-totem-alola', 'greninja-battle-bond', 'eternatus-eternamax', 'hatterene-gmax']\n",
            "\n",
            "¡Ejecución finalizada!, muchas gracias por su consulta\n"
          ]
        }
      ]
    },
    {
      "cell_type": "markdown",
      "source": [
        "# **Pregunta #2**\n",
        "\n",
        "**2.** ¿Con cuántas especies de pokémon puede procrear raichu? (2 Pokémon pueden procrear si están dentro del mismo egg group). Tu respuesta debe ser un número. Recuerda eliminar los duplicados."
      ],
      "metadata": {
        "id": "PIkZDDWLZzhP"
      }
    },
    {
      "cell_type": "markdown",
      "source": [
        "# **RESPUESTA #2**"
      ],
      "metadata": {
        "id": "K2EJXmVdW15r"
      }
    },
    {
      "cell_type": "code",
      "source": [
        "eggRaichu = []\n",
        "\n",
        "namePokemon = 'raichu'\n",
        "\n",
        "def getEggGroup(url = \"https://pokeapi.co/api/v2/pokemon-species/\" + namePokemon):\n",
        "  \n",
        "  response = requests.get(url)\n",
        "\n",
        "  if response.status_code == 200:\n",
        "    payload = response.json()\n",
        "    results = payload.get('egg_groups', [])\n",
        "    if results:\n",
        "      for eggGroups in results:\n",
        "        name = eggGroups['name'].lower()\n",
        "        if name not in eggRaichu:\n",
        "          eggRaichu.append(name)\n",
        "  else:\n",
        "    print(connectionMessageError)\n",
        "\n",
        "speciesEggRaichu = []\n",
        "\n",
        "def getSpecies():\n",
        "\n",
        "  iteration = 0\n",
        "\n",
        "  for pokemonSpecies in eggRaichu:\n",
        "    \n",
        "      response = requests.get(\"https://pokeapi.co/api/v2/egg-group/\" + eggRaichu[iteration])\n",
        "\n",
        "      if response.status_code == 200:\n",
        "        payload = response.json()\n",
        "        results = payload.get('pokemon_species', [])\n",
        "        if results:\n",
        "            for pokemonSpecies in results:\n",
        "              name = pokemonSpecies['name'].lower()\n",
        "              if name not in speciesEggRaichu:\n",
        "                speciesEggRaichu.append(name)\n",
        "            iteration += 1\n",
        "      else:\n",
        "        print(connectionMessageError)\n",
        "\n",
        "speciesEggGround = []\n",
        "\n",
        "speciesEggFairy = []\n",
        "\n",
        "def getSpeciesGroundFairy():\n",
        "\n",
        "  for pokemonSpecies in eggRaichu:\n",
        "    \n",
        "      response = requests.get(\"https://pokeapi.co/api/v2/egg-group/\" + eggRaichu[0])\n",
        "\n",
        "      if response.status_code == 200:\n",
        "        payload = response.json()\n",
        "        results = payload.get('pokemon_species', [])\n",
        "        if results:\n",
        "            for pokemonSpecies in results:\n",
        "              name = pokemonSpecies['name'].lower()\n",
        "              if name not in speciesEggGround:\n",
        "                speciesEggGround.append(name)\n",
        "      else:\n",
        "        print(connectionMessageError)\n",
        "\n",
        "      response = requests.get(\"https://pokeapi.co/api/v2/egg-group/\" + eggRaichu[1])\n",
        "\n",
        "      if response.status_code == 200:\n",
        "        payload = response.json()\n",
        "        results = payload.get('pokemon_species', [])\n",
        "        if results:\n",
        "            for pokemonSpecies in results:\n",
        "              name = pokemonSpecies['name'].lower()\n",
        "              if name not in speciesEggFairy:\n",
        "                speciesEggFairy.append(name)\n",
        "      else:\n",
        "        print(connectionMessageError)"
      ],
      "metadata": {
        "id": "e3vXokvxM49n"
      },
      "execution_count": 6,
      "outputs": []
    },
    {
      "cell_type": "code",
      "source": [
        "getEggGroup()\n",
        "\n",
        "getSpecies()\n",
        "\n",
        "getSpeciesGroundFairy()\n",
        "\n",
        "answerTwo = len(speciesEggRaichu)\n",
        "\n",
        "summatory = len(speciesEggGround) + len(speciesEggFairy)\n",
        "\n",
        "diference = summatory - answerTwo\n",
        "\n",
        "print('+---------------------------------------------------------------------------------------+')\n",
        "print(f'|La respuesta a la pregunta de cuántas especies de pokémon puede procrear raichu es: {answerTwo}|')\n",
        "print('+---------------------------------------------------------------------------------------+\\n')\n",
        "\n",
        "exit = False\n",
        "\n",
        "while not exit:\n",
        "\n",
        "    selection = optionForUser()\n",
        "\n",
        "    if selection == 's':\n",
        "      print(f'Raichu puede procrear con los egg group {eggRaichu}\\n')\n",
        "      print(f'De las cuales la {eggRaichu[0]} tiene en total {len(speciesEggGround)} especies de pokémons, los cuales son los siguientes: {speciesEggGround}\\n')\n",
        "      print(f'De las cuales la {eggRaichu[1]} tiene en total {len(speciesEggFairy)} especies de pokémons, los cuales son los siguientes: {speciesEggFairy}\\n')\n",
        "      print(f'Al sumar los {len(speciesEggGround)} del grupo {eggRaichu[0]} con los {len(speciesEggFairy)} del grupo {eggRaichu[1]} se obtiene como resultado un total de {summatory}, y si le restamos las {diference} especies de pokémon duplicadas, terminamos por obtener como resultado {answerTwo}\\n')\n",
        "      exit = True\n",
        "    elif selection == 'n':\n",
        "      exit = True\n",
        "    else:\n",
        "        print(invalidOption)\n",
        "\n",
        "print(successfulMessage)"
      ],
      "metadata": {
        "id": "k9Qjg6JMO3es",
        "colab": {
          "base_uri": "https://localhost:8080/"
        },
        "outputId": "b2ca1c98-8a46-4062-ec64-423e9ba161e8"
      },
      "execution_count": 7,
      "outputs": [
        {
          "output_type": "stream",
          "name": "stdout",
          "text": [
            "+---------------------------------------------------------------------------------------+\n",
            "|La respuesta a la pregunta de cuántas especies de pokémon puede procrear raichu es: 294|\n",
            "+---------------------------------------------------------------------------------------+\n",
            "\n",
            "¿Desea saber la sustentación de la respuesta? [S/N]: s\n",
            "\n",
            "Raichu puede procrear con los egg group ['ground', 'fairy']\n",
            "\n",
            "De las cuales la ground tiene en total 244 especies de pokémons, los cuales son los siguientes: ['rattata', 'raticate', 'ekans', 'arbok', 'pikachu', 'raichu', 'sandshrew', 'sandslash', 'nidoran-f', 'nidoran-m', 'nidorino', 'nidoking', 'vulpix', 'ninetales', 'diglett', 'dugtrio', 'meowth', 'persian', 'psyduck', 'golduck', 'mankey', 'primeape', 'growlithe', 'arcanine', 'ponyta', 'rapidash', 'farfetchd', 'seel', 'dewgong', 'rhyhorn', 'rhydon', 'tauros', 'eevee', 'vaporeon', 'jolteon', 'flareon', 'cyndaquil', 'quilava', 'typhlosion', 'sentret', 'furret', 'mareep', 'flaaffy', 'ampharos', 'aipom', 'wooper', 'quagsire', 'espeon', 'umbreon', 'girafarig', 'dunsparce', 'snubbull', 'granbull', 'sneasel', 'teddiursa', 'ursaring', 'swinub', 'piloswine', 'delibird', 'houndour', 'houndoom', 'phanpy', 'donphan', 'stantler', 'smeargle', 'miltank', 'torchic', 'combusken', 'blaziken', 'poochyena', 'mightyena', 'zigzagoon', 'linoone', 'seedot', 'nuzleaf', 'shiftry', 'slakoth', 'vigoroth', 'slaking', 'whismur', 'loudred', 'exploud', 'skitty', 'delcatty', 'mawile', 'electrike', 'manectric', 'wailmer', 'wailord', 'numel', 'camerupt', 'torkoal', 'spoink', 'grumpig', 'spinda', 'zangoose', 'seviper', 'kecleon', 'absol', 'spheal', 'sealeo', 'walrein', 'chimchar', 'monferno', 'infernape', 'piplup', 'prinplup', 'empoleon', 'bidoof', 'bibarel', 'shinx', 'luxio', 'luxray', 'pachirisu', 'buizel', 'floatzel', 'ambipom', 'buneary', 'lopunny', 'glameow', 'purugly', 'stunky', 'skuntank', 'lucario', 'hippopotas', 'hippowdon', 'weavile', 'rhyperior', 'leafeon', 'glaceon', 'mamoswine', 'snivy', 'servine', 'serperior', 'tepig', 'pignite', 'emboar', 'oshawott', 'dewott', 'samurott', 'patrat', 'watchog', 'lillipup', 'herdier', 'stoutland', 'purrloin', 'liepard', 'pansage', 'simisage', 'pansear', 'simisear', 'panpour', 'simipour', 'munna', 'musharna', 'blitzle', 'zebstrika', 'woobat', 'swoobat', 'drilbur', 'excadrill', 'sandile', 'krokorok', 'krookodile', 'darumaka', 'darmanitan', 'scraggy', 'scrafty', 'zorua', 'zoroark', 'minccino', 'cinccino', 'deerling', 'sawsbuck', 'emolga', 'cubchoo', 'beartic', 'mienfoo', 'mienshao', 'bouffalant', 'heatmor', 'chespin', 'quilladin', 'chesnaught', 'fennekin', 'braixen', 'delphox', 'bunnelby', 'diggersby', 'litleo', 'pyroar', 'skiddo', 'gogoat', 'pancham', 'pangoro', 'furfrou', 'espurr', 'meowstic', 'sylveon', 'dedenne', 'litten', 'torracat', 'incineroar', 'popplio', 'brionne', 'primarina', 'yungoos', 'gumshoos', 'rockruff', 'lycanroc', 'mudbray', 'mudsdale', 'stufful', 'bewear', 'oranguru', 'passimian', 'komala', 'togedemaru', 'grookey', 'thwackey', 'rillaboom', 'scorbunny', 'raboot', 'cinderace', 'sobble', 'drizzile', 'inteleon', 'skwovet', 'greedent', 'nickit', 'thievul', 'wooloo', 'dubwool', 'yamper', 'boltund', 'silicobra', 'sandaconda', 'obstagoon', 'perrserker', 'sirfetchd', 'eiscue', 'morpeko', 'cufant', 'copperajah']\n",
            "\n",
            "De las cuales la fairy tiene en total 61 especies de pokémons, los cuales son los siguientes: ['pikachu', 'raichu', 'clefairy', 'clefable', 'jigglypuff', 'wigglytuff', 'chansey', 'togetic', 'marill', 'azumarill', 'hoppip', 'skiploom', 'jumpluff', 'snubbull', 'granbull', 'blissey', 'shroomish', 'breloom', 'skitty', 'delcatty', 'mawile', 'plusle', 'minun', 'roselia', 'castform', 'snorunt', 'glalie', 'roserade', 'pachirisu', 'cherubi', 'cherrim', 'togekiss', 'froslass', 'phione', 'manaphy', 'audino', 'cottonee', 'whimsicott', 'flabebe', 'floette', 'florges', 'spritzee', 'aromatisse', 'swirlix', 'slurpuff', 'dedenne', 'carbink', 'cutiefly', 'ribombee', 'togedemaru', 'hatenna', 'hattrem', 'hatterene', 'impidimp', 'morgrem', 'grimmsnarl', 'milcery', 'alcremie', 'falinks', 'indeedee', 'morpeko']\n",
            "\n",
            "Al sumar los 244 del grupo ground con los 61 del grupo fairy se obtiene como resultado un total de 305, y si le restamos las 11 especies de pokémon duplicadas, terminamos por obtener como resultado 294\n",
            "\n",
            "¡Ejecución finalizada!, muchas gracias por su consulta\n"
          ]
        }
      ]
    },
    {
      "cell_type": "markdown",
      "source": [
        "# **Pregunta #3**\n",
        "\n",
        "**3.** Entrega el máximo y mínimo peso de los pokémon de tipo fighting de primera generación (cuyo id sea menor o igual a 151). Tu respuesta debe ser una lista con el siguiente formato: [1234, 12], en donde 1234 corresponde al máximo peso y 12 al mínimo."
      ],
      "metadata": {
        "id": "Oe6OMTxuZ8dq"
      }
    },
    {
      "cell_type": "markdown",
      "source": [
        "# **RESPUESTA #3**"
      ],
      "metadata": {
        "id": "zv0TfC3N1hH6"
      }
    },
    {
      "cell_type": "code",
      "source": [
        "pokedexFighting = []\n",
        "\n",
        "pokedexFirstGeneration = []\n",
        "\n",
        "pokedexFirstGenerationFighting = []\n",
        "\n",
        "weightFirstGenerationFightingPokemon = []\n",
        "\n",
        "weightRangeFightingPokemon = []\n",
        "\n",
        "limit = '151'\n",
        "offset = '0'\n",
        "\n",
        "def getPokemonsFighting():\n",
        "  \n",
        "  response = requests.get(\"https://pokeapi.co/api/v2/type/fighting/\")\n",
        "\n",
        "  if response.status_code == 200:\n",
        "    payload = response.json()\n",
        "    results = payload.get('pokemon', [])\n",
        "    if results:\n",
        "      for pokemon in results:\n",
        "        name = pokemon['pokemon']['name']\n",
        "        if name not in pokedexFighting:\n",
        "          pokedexFighting.append(name)\n",
        "  else:\n",
        "    print(connectionMessageError)\n",
        "  \n",
        "  response = requests.get(\"https://pokeapi.co/api/v2/pokemon/?limit=\" + limit + \"&offset=\" + offset)\n",
        "\n",
        "  if response.status_code == 200:\n",
        "    payload = response.json()\n",
        "    results = payload.get('results', [])\n",
        "    if results:\n",
        "      for pokemon in results:\n",
        "        name = pokemon['name'].lower()\n",
        "        if name not in pokedexFirstGeneration:\n",
        "          pokedexFirstGeneration.append(name)\n",
        "  else:\n",
        "    print(connectionMessageError)\n",
        "\n",
        "  for pokemon in pokedexFighting:\n",
        "    if (pokemon not in pokedexFirstGenerationFighting) and (pokemon in pokedexFirstGeneration):\n",
        "        pokedexFirstGenerationFighting.append(pokemon)\n",
        "\n",
        "  index = 0\n",
        "\n",
        "  for pokemon in pokedexFirstGenerationFighting:\n",
        "\n",
        "    response = requests.get(\"https://pokeapi.co/api/v2/pokemon/\" + pokedexFirstGenerationFighting[index])\n",
        "\n",
        "    if response.status_code == 200:\n",
        "      payload = response.json()\n",
        "      weight = payload.get('weight', [])\n",
        "      if weight not in weightFirstGenerationFightingPokemon:\n",
        "        weightFirstGenerationFightingPokemon.append(weight)\n",
        "      index += 1\n",
        "    else:\n",
        "      print(connectionMessageError)\n",
        "\n",
        "  weightMax = max(weightFirstGenerationFightingPokemon)\n",
        "\n",
        "  weightMin = min(weightFirstGenerationFightingPokemon)\n",
        "\n",
        "  if weightMax not in weightRangeFightingPokemon:\n",
        "    weightRangeFightingPokemon.append(weightMax)\n",
        "  if weightMin not in weightRangeFightingPokemon: \n",
        "    weightRangeFightingPokemon.append(weightMin)\n",
        "\n",
        "def showNameAndWeight():\n",
        "\n",
        "  index = 0\n",
        "\n",
        "  for pokemon in pokedexFirstGenerationFighting:\n",
        "    print(f\"{pokedexFirstGenerationFighting[index].capitalize()}: {weightFirstGenerationFightingPokemon[index]}\")\n",
        "    index += 1"
      ],
      "metadata": {
        "id": "_jWkYmiWL2oT"
      },
      "execution_count": 8,
      "outputs": []
    },
    {
      "cell_type": "code",
      "source": [
        "getPokemonsFighting()\n",
        "\n",
        "answerthree = weightRangeFightingPokemon\n",
        "\n",
        "index = 0\n",
        "\n",
        "print('+------------------------------------------------------------------------------------------------------------------------------------------+')\n",
        "print(f'|La respuesta a la pregunta de cuanto es el peso máximo y mínimo peso de los pokémon de tipo fighting de primera generación es: {answerthree}|')\n",
        "print('+------------------------------------------------------------------------------------------------------------------------------------------+\\n')\n",
        "\n",
        "exit = False\n",
        "\n",
        "while not exit:\n",
        "\n",
        "    selection = optionForUser()\n",
        "\n",
        "    if selection == 's':\n",
        "      print(f'Exiten actualmente {len(pokedexFighting)} pokémons de tipo lucha, de los cuales solo {len(pokedexFirstGenerationFighting)} pertenecen a la primera generación y estos son los siguientes: {pokedexFirstGenerationFighting}\\n')\n",
        "      print(\"Y los pesos de cada pokémon de tipo lucha se muestra a continuación:\\n\")\n",
        "      showNameAndWeight()\n",
        "      print()\n",
        "      exit = True\n",
        "    elif selection == 'n':\n",
        "      exit = True\n",
        "    else:\n",
        "        print(invalidOption)\n",
        "\n",
        "print(successfulMessage)"
      ],
      "metadata": {
        "id": "hMOigwLuL4RI",
        "colab": {
          "base_uri": "https://localhost:8080/"
        },
        "outputId": "c213dbb5-776d-440f-befb-cd5cbaf947ba"
      },
      "execution_count": 9,
      "outputs": [
        {
          "output_type": "stream",
          "name": "stdout",
          "text": [
            "+------------------------------------------------------------------------------------------------------------------------------------------+\n",
            "|La respuesta a la pregunta de cuanto es el peso máximo y mínimo peso de los pokémon de tipo fighting de primera generación es: [1300, 195]|\n",
            "+------------------------------------------------------------------------------------------------------------------------------------------+\n",
            "\n",
            "¿Desea saber la sustentación de la respuesta? [S/N]: s\n",
            "\n",
            "Exiten actualmente 78 pokémons de tipo lucha, de los cuales solo 8 pertenecen a la primera generación y estos son los siguientes: ['mankey', 'primeape', 'poliwrath', 'machop', 'machoke', 'machamp', 'hitmonlee', 'hitmonchan']\n",
            "\n",
            "Y los pesos de cada pokémon de tipo lucha se muestra a continuación:\n",
            "\n",
            "Mankey: 280\n",
            "Primeape: 320\n",
            "Poliwrath: 540\n",
            "Machop: 195\n",
            "Machoke: 705\n",
            "Machamp: 1300\n",
            "Hitmonlee: 498\n",
            "Hitmonchan: 502\n",
            "\n",
            "¡Ejecución finalizada!, muchas gracias por su consulta\n"
          ]
        }
      ]
    }
  ]
}